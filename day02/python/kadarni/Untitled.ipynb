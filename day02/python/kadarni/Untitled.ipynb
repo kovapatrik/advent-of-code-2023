{
 "cells": [
  {
   "cell_type": "markdown",
   "id": "26d6c2dd-1c98-4840-a86a-7f7bb5ae8bfc",
   "metadata": {},
   "source": [
    "# Day02"
   ]
  },
  {
   "cell_type": "code",
   "execution_count": 31,
   "id": "40b71b9e-14a2-49ca-b657-f0b930dbfd10",
   "metadata": {},
   "outputs": [],
   "source": [
    "import numpy as np"
   ]
  },
  {
   "cell_type": "code",
   "execution_count": 1,
   "id": "2b24fefe-2430-4bef-a03a-065954ca913d",
   "metadata": {},
   "outputs": [],
   "source": [
    "fid = open('input.txt','r')"
   ]
  },
  {
   "cell_type": "code",
   "execution_count": 2,
   "id": "9b24dd6d-5aa7-4b70-be5e-dacacfafbac1",
   "metadata": {},
   "outputs": [],
   "source": [
    "content = fid.readlines()"
   ]
  },
  {
   "cell_type": "code",
   "execution_count": 3,
   "id": "a12fdd89-b306-4895-b7c0-bc06b135fa4c",
   "metadata": {},
   "outputs": [
    {
     "data": {
      "text/plain": [
       "['Game 1: 1 blue, 1 red; 10 red; 8 red, 1 blue, 1 green; 1 green, 5 blue\\n',\n",
       " 'Game 2: 9 green, 11 red; 1 green, 7 red, 1 blue; 1 red, 1 blue, 1 green; 11 green, 3 red, 1 blue; 5 green, 12 red; 8 green, 1 blue, 7 red\\n',\n",
       " 'Game 3: 16 blue, 2 red, 4 green; 8 red, 4 green; 7 green, 16 blue\\n']"
      ]
     },
     "execution_count": 3,
     "metadata": {},
     "output_type": "execute_result"
    }
   ],
   "source": [
    "content[:3]"
   ]
  },
  {
   "cell_type": "markdown",
   "id": "f48e3798-9f62-4fe1-89f7-9268ff7b1bd8",
   "metadata": {},
   "source": [
    "12 red cubes, 13 green cubes, and 14 blue"
   ]
  },
  {
   "cell_type": "code",
   "execution_count": 54,
   "id": "170d1e44-a8e6-461d-8e2f-8701ab5c6426",
   "metadata": {},
   "outputs": [],
   "source": [
    "def game_counter():\n",
    "    fid = open('input.txt','r')\n",
    "    content = fid.readlines()\n",
    "    sum_game = 0\n",
    "    for line in content:\n",
    "        parse1 = line.split(':')\n",
    "        game = int(parse1[0].replace('Game ',''))\n",
    "        valid_game = 1\n",
    "        parse2 = parse1[1].split(';')\n",
    "        for s in parse2:\n",
    "            str_draw = s.strip().replace(',','').split(' ')\n",
    "            for i in np.arange(0, len(str_draw),2):\n",
    "                ballcount = int(str_draw[i])\n",
    "                ballcolor = str_draw[i+1]\n",
    "                if ballcount>=12:\n",
    "                    if ('red' in ballcolor) and (ballcount>12):\n",
    "                        valid_game = 0\n",
    "                        break\n",
    "                    elif ('blue' in ballcolor) and (ballcount>14):\n",
    "                        valid_game = 0\n",
    "                        break\n",
    "                    elif ('green' in ballcolor) and (ballcount>13):\n",
    "                        valid_game = 0\n",
    "                        break\n",
    "        if valid_game:\n",
    "    #         print(game)\n",
    "            sum_game = sum_game + game\n",
    "    #     else:\n",
    "    #         print(parse1[1])\n",
    "    return sum_game"
   ]
  },
  {
   "cell_type": "code",
   "execution_count": 43,
   "id": "671e8796-3503-41bc-b335-73cfa489c5ad",
   "metadata": {},
   "outputs": [
    {
     "data": {
      "text/plain": [
       "2439"
      ]
     },
     "execution_count": 43,
     "metadata": {},
     "output_type": "execute_result"
    }
   ],
   "source": [
    "game_counter()"
   ]
  },
  {
   "cell_type": "code",
   "execution_count": 44,
   "id": "2fcabde6-5a1f-4a59-b467-b603553cb537",
   "metadata": {},
   "outputs": [
    {
     "name": "stdout",
     "output_type": "stream",
     "text": [
      "2.44 ms ± 72.3 µs per loop (mean ± std. dev. of 7 runs, 100 loops each)\n"
     ]
    }
   ],
   "source": [
    "%timeit game_counter()"
   ]
  },
  {
   "cell_type": "markdown",
   "id": "572dd735-903b-4a08-8690-82bd68f97e5e",
   "metadata": {},
   "source": [
    "## Task 2\n",
    "what is the minimum of number of cubes to make the game possible? --> each line max cube number"
   ]
  },
  {
   "cell_type": "code",
   "execution_count": 55,
   "id": "e4e0ac9c-e3bf-4ab6-9617-b7f39bed46ba",
   "metadata": {},
   "outputs": [],
   "source": [
    "def power_counter():\n",
    "    fid = open('input.txt','r')\n",
    "    content = fid.readlines()\n",
    "    sum_power = 0\n",
    "    for line in content:\n",
    "        parse1 = line.split(':')\n",
    "        game = int(parse1[0].replace('Game ',''))\n",
    "        valid_game = 1\n",
    "        parse2 = parse1[1].split(';')\n",
    "        bluecubes = 0\n",
    "        greencubes = 0\n",
    "        redcubes = 0\n",
    "    #     print(parse1[1].strip())\n",
    "        for s in parse2:\n",
    "            str_draw = s.strip().replace(',','').split(' ')\n",
    "            for i in np.arange(0, len(str_draw),2):\n",
    "                cubecount = int(str_draw[i])\n",
    "                cubecolor = str_draw[i+1]\n",
    "                if ('red' in cubecolor) and (cubecount > redcubes):\n",
    "                    redcubes = cubecount\n",
    "                elif ('blue' in cubecolor) and (cubecount > bluecubes):\n",
    "                    bluecubes = cubecount\n",
    "                elif ('green' in cubecolor) and (cubecount > greencubes):\n",
    "                    greencubes = cubecount\n",
    "    #     print(redcubes,bluecubes,greencubes)\n",
    "        power = redcubes * bluecubes * greencubes\n",
    "        sum_power = sum_power + power\n",
    "    return sum_power\n",
    "    #     else:\n",
    "    #         print(parse1[1])"
   ]
  },
  {
   "cell_type": "code",
   "execution_count": 56,
   "id": "e8e635e4-3ec4-4527-8b93-5f7a30bbfd70",
   "metadata": {},
   "outputs": [
    {
     "data": {
      "text/plain": [
       "63711"
      ]
     },
     "execution_count": 56,
     "metadata": {},
     "output_type": "execute_result"
    }
   ],
   "source": [
    "power_counter()"
   ]
  },
  {
   "cell_type": "code",
   "execution_count": 57,
   "id": "d979ff8e-6163-4dd8-a466-2aa3919070f1",
   "metadata": {},
   "outputs": [
    {
     "name": "stdout",
     "output_type": "stream",
     "text": [
      "2.78 ms ± 87.1 µs per loop (mean ± std. dev. of 7 runs, 100 loops each)\n"
     ]
    }
   ],
   "source": [
    "%timeit power_counter()"
   ]
  },
  {
   "cell_type": "code",
   "execution_count": null,
   "id": "2f48d71a-d282-4ab7-9eae-55457a37260b",
   "metadata": {},
   "outputs": [],
   "source": []
  }
 ],
 "metadata": {
  "kernelspec": {
   "display_name": "Python 3",
   "language": "python",
   "name": "python3"
  },
  "language_info": {
   "codemirror_mode": {
    "name": "ipython",
    "version": 3
   },
   "file_extension": ".py",
   "mimetype": "text/x-python",
   "name": "python",
   "nbconvert_exporter": "python",
   "pygments_lexer": "ipython3",
   "version": "3.8.8"
  }
 },
 "nbformat": 4,
 "nbformat_minor": 5
}
