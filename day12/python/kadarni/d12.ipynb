{
 "cells": [
  {
   "cell_type": "code",
   "execution_count": 2,
   "id": "01f17549-73bb-414e-8996-83d8632a1d9a",
   "metadata": {},
   "outputs": [],
   "source": [
    "import numpy as np\n",
    "import itertools\n",
    "import time\n",
    "from collections import defaultdict"
   ]
  },
  {
   "cell_type": "code",
   "execution_count": 3,
   "id": "6bf55807-00b0-48cb-990c-1135bbdaaf19",
   "metadata": {},
   "outputs": [],
   "source": [
    "springs = defaultdict()"
   ]
  },
  {
   "cell_type": "code",
   "execution_count": 4,
   "id": "6baad31e-ccc2-4314-b420-6d839000e356",
   "metadata": {},
   "outputs": [],
   "source": [
    "content = open('sa.txt').readlines()"
   ]
  },
  {
   "cell_type": "code",
   "execution_count": 129,
   "id": "00b1f201-f053-468f-8866-9a14ae35785d",
   "metadata": {},
   "outputs": [
    {
     "name": "stdout",
     "output_type": "stream",
     "text": [
      "Valid records after 32.689514 s\n"
     ]
    }
   ],
   "source": [
    "start = time.time()\n",
    "valid_record = 0\n",
    "springs = defaultdict()\n",
    "for il, line in enumerate(content):\n",
    "    valid_record = 0\n",
    "#     print(i,end=',')\n",
    "    splitted_line = line.split()\n",
    "    numbers = list(map(int,splitted_line[1].split(',')))\n",
    "    # numbers = list(map(int,splitted_line[1].split(',')))*5\n",
    "    # spring_records = '?'.join([splitted_line[0]]*5)\n",
    "    spring_records = splitted_line[0]\n",
    "    count_act_hashes = spring_records.count('#')\n",
    "    missing_hashes = sum(numbers) - count_act_hashes\n",
    "    count_qm = spring_records.count('?')\n",
    "\n",
    "\n",
    "    dot_pos = itertools.combinations(np.arange(0,count_qm),count_qm-missing_hashes)\n",
    "    # print(spring_records,numbers)\n",
    "    for i,perm in enumerate(dot_pos):\n",
    "        replacement = ['#']*missing_hashes\n",
    "        for j,pos in enumerate(perm):\n",
    "            replacement = replacement[:pos]+['.'] + replacement[pos:]\n",
    "        # print(perm)\n",
    "        counter = 0\n",
    "        # spring_records = '?'.join([splitted_line[0]]*5)\n",
    "        spring_records = splitted_line[0]\n",
    "        while(spring_records.count('?')>0):\n",
    "            ind = spring_records.find('?')\n",
    "            spring_records = spring_records[:ind] + replacement[counter] + spring_records[ind+1:]\n",
    "            counter+=1\n",
    "        # print(spring_records)\n",
    "        new_numbers = [a.count('#') for a in spring_records.split('.') if len(a)>0]\n",
    "        if len(new_numbers)==len(numbers):\n",
    "\n",
    "            if np.sum([k==0 for k in np.asarray(new_numbers)-np.asarray(numbers)])==len(np.asarray(new_numbers)-np.asarray(numbers)):\n",
    "                valid_record +=1\n",
    "                # print(spring_records)\n",
    "#     print(splitted_line[0],valid_record,numbers)\n",
    "    springs[il] = valid_record\n",
    "print('Valid records after %f s' %(time.time()-start))"
   ]
  },
  {
   "cell_type": "code",
   "execution_count": 130,
   "id": "77197edb-5a24-4c3d-b5a2-33d2a681a13b",
   "metadata": {},
   "outputs": [
    {
     "ename": "KeyboardInterrupt",
     "evalue": "",
     "output_type": "error",
     "traceback": [
      "\u001b[1;31m---------------------------------------------------------------------------\u001b[0m",
      "\u001b[1;31mKeyboardInterrupt\u001b[0m                         Traceback (most recent call last)",
      "\u001b[1;32m<ipython-input-130-4ed9bd66893b>\u001b[0m in \u001b[0;36m<module>\u001b[1;34m\u001b[0m\n\u001b[0;32m     18\u001b[0m         \u001b[0mreplacement\u001b[0m \u001b[1;33m=\u001b[0m \u001b[1;33m[\u001b[0m\u001b[1;34m'#'\u001b[0m\u001b[1;33m]\u001b[0m\u001b[1;33m*\u001b[0m\u001b[0mmissing_hashes\u001b[0m\u001b[1;33m\u001b[0m\u001b[1;33m\u001b[0m\u001b[0m\n\u001b[0;32m     19\u001b[0m         \u001b[1;32mfor\u001b[0m \u001b[0mj\u001b[0m\u001b[1;33m,\u001b[0m\u001b[0mpos\u001b[0m \u001b[1;32min\u001b[0m \u001b[0menumerate\u001b[0m\u001b[1;33m(\u001b[0m\u001b[0mperm\u001b[0m\u001b[1;33m)\u001b[0m\u001b[1;33m:\u001b[0m\u001b[1;33m\u001b[0m\u001b[1;33m\u001b[0m\u001b[0m\n\u001b[1;32m---> 20\u001b[1;33m             \u001b[0mreplacement\u001b[0m \u001b[1;33m=\u001b[0m \u001b[0mreplacement\u001b[0m\u001b[1;33m[\u001b[0m\u001b[1;33m:\u001b[0m\u001b[0mpos\u001b[0m\u001b[1;33m]\u001b[0m\u001b[1;33m+\u001b[0m\u001b[1;33m[\u001b[0m\u001b[1;34m'.'\u001b[0m\u001b[1;33m]\u001b[0m \u001b[1;33m+\u001b[0m \u001b[0mreplacement\u001b[0m\u001b[1;33m[\u001b[0m\u001b[0mpos\u001b[0m\u001b[1;33m:\u001b[0m\u001b[1;33m]\u001b[0m\u001b[1;33m\u001b[0m\u001b[1;33m\u001b[0m\u001b[0m\n\u001b[0m\u001b[0;32m     21\u001b[0m         \u001b[1;31m# print(perm)\u001b[0m\u001b[1;33m\u001b[0m\u001b[1;33m\u001b[0m\u001b[1;33m\u001b[0m\u001b[0m\n\u001b[0;32m     22\u001b[0m         \u001b[0mcounter\u001b[0m \u001b[1;33m=\u001b[0m \u001b[1;36m0\u001b[0m\u001b[1;33m\u001b[0m\u001b[1;33m\u001b[0m\u001b[0m\n",
      "\u001b[1;31mKeyboardInterrupt\u001b[0m: "
     ]
    }
   ],
   "source": [
    "start = time.time()\n",
    "springs2=defaultdict()\n",
    "valid_record = 0\n",
    "for il, line in enumerate(content):\n",
    "    valid_record = 0\n",
    "#     print(il,end=',')\n",
    "    splitted_line = line.split()\n",
    "#     numbers = list(map(int,splitted_line[1].split(',')))\n",
    "    numbers = list(map(int,splitted_line[1].split(',')))*2\n",
    "    spring_records = '?'.join([splitted_line[0]]*2)\n",
    "#     spring_records = splitted_line[0]\n",
    "    count_act_hashes = spring_records.count('#')\n",
    "    missing_hashes = sum(numbers) - count_act_hashes\n",
    "    count_qm = spring_records.count('?')\n",
    "    dot_pos = itertools.combinations(np.arange(0,count_qm),count_qm-missing_hashes)\n",
    "    # print(spring_records,numbers)\n",
    "    for i,perm in enumerate(dot_pos):\n",
    "        replacement = ['#']*missing_hashes\n",
    "        for j,pos in enumerate(perm):\n",
    "            replacement = replacement[:pos]+['.'] + replacement[pos:]\n",
    "        # print(perm)\n",
    "        counter = 0\n",
    "        spring_records = '?'.join([splitted_line[0]]*2)\n",
    "#         spring_records = splitted_line[0]\n",
    "        while(spring_records.count('?')>0):\n",
    "            ind = spring_records.find('?')\n",
    "            spring_records = spring_records[:ind] + replacement[counter] + spring_records[ind+1:]\n",
    "            counter+=1\n",
    "        # print(spring_records)\n",
    "        new_numbers = [a.count('#') for a in spring_records.split('.') if len(a)>0]\n",
    "        if len(new_numbers)==len(numbers):\n",
    "\n",
    "            if np.sum([k==0 for k in np.asarray(new_numbers)-np.asarray(numbers)])==len(np.asarray(new_numbers)-np.asarray(numbers)):\n",
    "                valid_record +=1\n",
    "                \n",
    "                # print(spring_records)\n",
    "#     print(splitted_line[0],valid_record,numbers)\n",
    "    springs2[il] = (valid_record/springs[il])**4*springs[il]\n",
    "print('Valid records = %d after %f s' %(valid_record,time.time()-start))"
   ]
  },
  {
   "cell_type": "code",
   "execution_count": 6,
   "id": "ca42fde7-e46b-4af2-a3bc-205096691583",
   "metadata": {},
   "outputs": [
    {
     "data": {
      "text/plain": [
       "['???.### 1,1,3\\n',\n",
       " '.??..??...?##. 1,1,3\\n',\n",
       " '?#?#?#?#?#?#?#? 1,3,1,6\\n',\n",
       " '????.#...#... 4,1,1\\n',\n",
       " '????.######..#####. 1,6,5\\n',\n",
       " '?###???????? 3,2,1']"
      ]
     },
     "execution_count": 6,
     "metadata": {},
     "output_type": "execute_result"
    }
   ],
   "source": [
    "content"
   ]
  },
  {
   "cell_type": "code",
   "execution_count": 90,
   "id": "7ae05028-57ba-4836-bfd7-f623338e110b",
   "metadata": {},
   "outputs": [
    {
     "data": {
      "text/plain": [
       "[4]"
      ]
     },
     "execution_count": 90,
     "metadata": {},
     "output_type": "execute_result"
    }
   ],
   "source": [
    "[a.count('#') for a in ex.split('.')]"
   ]
  },
  {
   "cell_type": "code",
   "execution_count": 91,
   "id": "2fc9dc70-b695-4d54-9aa9-e80de8335a56",
   "metadata": {},
   "outputs": [
    {
     "data": {
      "text/plain": [
       "[14]"
      ]
     },
     "execution_count": 91,
     "metadata": {},
     "output_type": "execute_result"
    }
   ],
   "source": [
    "[a.count('?') for a in ex.split('.')]"
   ]
  },
  {
   "cell_type": "code",
   "execution_count": 92,
   "id": "fef911e3-2ede-4e4a-9c17-36d26f062d7b",
   "metadata": {},
   "outputs": [
    {
     "data": {
      "text/plain": [
       "[0, 0, 0, 0, 0, 0, 0, 2, 0, 0, 0, 0, 1, 1, 0]"
      ]
     },
     "execution_count": 92,
     "metadata": {},
     "output_type": "execute_result"
    }
   ],
   "source": [
    "[a.count('#') for a in ex.split('?')]"
   ]
  },
  {
   "cell_type": "code",
   "execution_count": 95,
   "id": "137240ce-7885-476a-8d3d-1aa105e216ff",
   "metadata": {},
   "outputs": [
    {
     "data": {
      "text/plain": [
       "2"
      ]
     },
     "execution_count": 95,
     "metadata": {},
     "output_type": "execute_result"
    }
   ],
   "source": [
    "16"
   ]
  },
  {
   "cell_type": "code",
   "execution_count": 53,
   "id": "d957d2ca-16ce-4d90-920b-857917db90c8",
   "metadata": {},
   "outputs": [],
   "source": [
    "def fact(n,k):\n",
    "    return len(list(itertools.combinations(np.arange(n),k)))"
   ]
  },
  {
   "cell_type": "code",
   "execution_count": 59,
   "id": "ff5fa6ae-5eff-4a72-888e-0942fd47d5b3",
   "metadata": {},
   "outputs": [
    {
     "data": {
      "text/plain": [
       "7"
      ]
     },
     "execution_count": 59,
     "metadata": {},
     "output_type": "execute_result"
    }
   ],
   "source": [
    "len(list(itertools.perm(np.arange(7))))"
   ]
  },
  {
   "cell_type": "code",
   "execution_count": 77,
   "id": "d2cf24d7-e1d9-47ec-b9a1-df5e7ae0c29c",
   "metadata": {},
   "outputs": [
    {
     "name": "stdout",
     "output_type": "stream",
     "text": [
      "(0, 1, 2)\n",
      "(0, 2, 1)\n",
      "(1, 0, 2)\n",
      "(1, 2, 0)\n",
      "(2, 0, 1)\n",
      "(2, 1, 0)\n"
     ]
    },
    {
     "data": {
      "text/plain": [
       "[None, None, None, None, None, None]"
      ]
     },
     "execution_count": 77,
     "metadata": {},
     "output_type": "execute_result"
    }
   ],
   "source": [
    "[print(p) for p  in itertools.permutations(np.arange(3))]"
   ]
  },
  {
   "cell_type": "code",
   "execution_count": 78,
   "id": "011815d9-b75b-4379-b64f-4521f33ac53c",
   "metadata": {},
   "outputs": [
    {
     "name": "stdout",
     "output_type": "stream",
     "text": [
      "(0, 0, 0)\n",
      "(0, 0, 1)\n",
      "(0, 0, 2)\n",
      "(0, 1, 0)\n",
      "(0, 1, 1)\n",
      "(0, 1, 2)\n",
      "(0, 2, 0)\n",
      "(0, 2, 1)\n",
      "(0, 2, 2)\n",
      "(1, 0, 0)\n",
      "(1, 0, 1)\n",
      "(1, 0, 2)\n",
      "(1, 1, 0)\n",
      "(1, 1, 1)\n",
      "(1, 1, 2)\n",
      "(1, 2, 0)\n",
      "(1, 2, 1)\n",
      "(1, 2, 2)\n",
      "(2, 0, 0)\n",
      "(2, 0, 1)\n",
      "(2, 0, 2)\n",
      "(2, 1, 0)\n",
      "(2, 1, 1)\n",
      "(2, 1, 2)\n",
      "(2, 2, 0)\n",
      "(2, 2, 1)\n",
      "(2, 2, 2)\n"
     ]
    },
    {
     "data": {
      "text/plain": [
       "27"
      ]
     },
     "execution_count": 78,
     "metadata": {},
     "output_type": "execute_result"
    }
   ],
   "source": [
    "len([print(p) for p  in itertools.product(np.arange(3),np.arange(3),np.arange(3))])"
   ]
  },
  {
   "cell_type": "code",
   "execution_count": null,
   "id": "093642fb-c5f7-4d54-889d-2565fce5ef19",
   "metadata": {},
   "outputs": [],
   "source": []
  }
 ],
 "metadata": {
  "kernelspec": {
   "display_name": "Python 3",
   "language": "python",
   "name": "python3"
  },
  "language_info": {
   "codemirror_mode": {
    "name": "ipython",
    "version": 3
   },
   "file_extension": ".py",
   "mimetype": "text/x-python",
   "name": "python",
   "nbconvert_exporter": "python",
   "pygments_lexer": "ipython3",
   "version": "3.8.8"
  }
 },
 "nbformat": 4,
 "nbformat_minor": 5
}
