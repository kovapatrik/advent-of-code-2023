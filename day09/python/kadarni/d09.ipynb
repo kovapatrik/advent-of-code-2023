{
 "cells": [
  {
   "cell_type": "code",
   "execution_count": 25,
   "id": "30915117-8617-4d1d-b965-f53bf075ead4",
   "metadata": {},
   "outputs": [],
   "source": [
    "import numpy as np"
   ]
  },
  {
   "cell_type": "code",
   "execution_count": 27,
   "id": "c654d9ca-dbf4-42bd-8f88-afa6677cf27f",
   "metadata": {},
   "outputs": [],
   "source": [
    "content = list(map(str.split,map(str.strip,open('in.txt').readlines())))"
   ]
  },
  {
   "cell_type": "code",
   "execution_count": 28,
   "id": "198494f1-27bc-48f4-93e4-6b9b89266114",
   "metadata": {
    "collapsed": true,
    "jupyter": {
     "outputs_hidden": true
    },
    "tags": []
   },
   "outputs": [
    {
     "data": {
      "text/plain": [
       "[['13',\n",
       "  '31',\n",
       "  '64',\n",
       "  '123',\n",
       "  '233',\n",
       "  '435',\n",
       "  '798',\n",
       "  '1465',\n",
       "  '2767',\n",
       "  '5449',\n",
       "  '11062',\n",
       "  '22585',\n",
       "  '45351',\n",
       "  '88361',\n",
       "  '166080',\n",
       "  '300819',\n",
       "  '525817',\n",
       "  '889147',\n",
       "  '1458580',\n",
       "  '2327551',\n",
       "  '3622381'],\n",
       " ['5',\n",
       "  '11',\n",
       "  '27',\n",
       "  '54',\n",
       "  '98',\n",
       "  '187',\n",
       "  '407',\n",
       "  '965',\n",
       "  '2292',\n",
       "  '5227',\n",
       "  '11396',\n",
       "  '24048',\n",
       "  '49871',\n",
       "  '102731',\n",
       "  '210910',\n",
       "  '430327',\n",
       "  '867479',\n",
       "  '1717515',\n",
       "  '3325041',\n",
       "  '6278042',\n",
       "  '11548800'],\n",
       " ['-8',\n",
       "  '-14',\n",
       "  '-13',\n",
       "  '-2',\n",
       "  '19',\n",
       "  '63',\n",
       "  '186',\n",
       "  '531',\n",
       "  '1386',\n",
       "  '3256',\n",
       "  '6949',\n",
       "  '13676',\n",
       "  '25165',\n",
       "  '43789',\n",
       "  '72708',\n",
       "  '116025',\n",
       "  '178956',\n",
       "  '268014',\n",
       "  '391207',\n",
       "  '558250',\n",
       "  '780791']]"
      ]
     },
     "execution_count": 28,
     "metadata": {},
     "output_type": "execute_result"
    }
   ],
   "source": [
    "content[:3]"
   ]
  },
  {
   "cell_type": "code",
   "execution_count": 29,
   "id": "4fd10cfb-3c20-46ec-bf64-4baf6f3cb88b",
   "metadata": {
    "collapsed": true,
    "jupyter": {
     "outputs_hidden": true
    },
    "tags": []
   },
   "outputs": [
    {
     "data": {
      "text/plain": [
       "[13.0,\n",
       " 31.0,\n",
       " 64.0,\n",
       " 123.0,\n",
       " 233.0,\n",
       " 435.0,\n",
       " 798.0,\n",
       " 1465.0,\n",
       " 2767.0,\n",
       " 5449.0,\n",
       " 11062.0,\n",
       " 22585.0,\n",
       " 45351.0,\n",
       " 88361.0,\n",
       " 166080.0,\n",
       " 300819.0,\n",
       " 525817.0,\n",
       " 889147.0,\n",
       " 1458580.0,\n",
       " 2327551.0,\n",
       " 3622381.0]"
      ]
     },
     "execution_count": 29,
     "metadata": {},
     "output_type": "execute_result"
    }
   ],
   "source": [
    "[float(k) for k in content[0]]"
   ]
  },
  {
   "cell_type": "code",
   "execution_count": 40,
   "id": "9d21e706-1423-4241-a289-f8738fc9af54",
   "metadata": {
    "tags": []
   },
   "outputs": [],
   "source": [
    "last_val = 0\n",
    "for i,hist in enumerate(content):\n",
    "    hist = [float(k) for k in hist]\n",
    "    last_val += hist[-1]\n",
    "#     print(hist,last_val)\n",
    "    while(sum(np.in1d(hist,0))!=len(hist)):\n",
    "        hist=np.diff(hist)\n",
    "        last_val += hist[-1]\n",
    "#         print(hist,last_val)"
   ]
  },
  {
   "cell_type": "code",
   "execution_count": 41,
   "id": "2e555eca-1191-4879-8d45-0c9a25f1d0fa",
   "metadata": {},
   "outputs": [
    {
     "data": {
      "text/plain": [
       "1782868781.0"
      ]
     },
     "execution_count": 41,
     "metadata": {},
     "output_type": "execute_result"
    }
   ],
   "source": [
    "last_val"
   ]
  },
  {
   "cell_type": "code",
   "execution_count": 52,
   "id": "99f2caee-5b67-4ebd-b0f3-524259073056",
   "metadata": {},
   "outputs": [],
   "source": [
    "prev_val = 0\n",
    "for i,hist in enumerate(content):\n",
    "    hist = [float(k) for k in hist]\n",
    "    sign = 1\n",
    "    prev_val += hist[0]*sign\n",
    "#     print(hist,prev_val)\n",
    "    while(sum(np.in1d(hist,0))!=len(hist)):\n",
    "        sign *=-1 \n",
    "        hist=np.diff(hist)\n",
    "        prev_val += hist[0]*sign\n",
    "#         print(hist,prev_val)"
   ]
  },
  {
   "cell_type": "code",
   "execution_count": 53,
   "id": "e8098c34-7871-4914-8922-56cd5c87c0fc",
   "metadata": {},
   "outputs": [
    {
     "data": {
      "text/plain": [
       "1057.0"
      ]
     },
     "execution_count": 53,
     "metadata": {},
     "output_type": "execute_result"
    }
   ],
   "source": [
    "prev_val"
   ]
  }
 ],
 "metadata": {
  "kernelspec": {
   "display_name": "Python 3",
   "language": "python",
   "name": "python3"
  },
  "language_info": {
   "codemirror_mode": {
    "name": "ipython",
    "version": 3
   },
   "file_extension": ".py",
   "mimetype": "text/x-python",
   "name": "python",
   "nbconvert_exporter": "python",
   "pygments_lexer": "ipython3",
   "version": "3.8.8"
  }
 },
 "nbformat": 4,
 "nbformat_minor": 5
}
