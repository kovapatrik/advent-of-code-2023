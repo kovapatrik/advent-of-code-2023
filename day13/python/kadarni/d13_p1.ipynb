{
 "cells": [
  {
   "cell_type": "code",
   "execution_count": 2,
   "id": "686826c1-e6f6-4762-a860-fcac0b8d4d7e",
   "metadata": {},
   "outputs": [],
   "source": [
    "import numpy as np\n",
    "import itertools\n",
    "import time"
   ]
  },
  {
   "cell_type": "code",
   "execution_count": 4,
   "id": "20828b4f-be77-4c62-a1ee-eccb8a4f3a73",
   "metadata": {},
   "outputs": [
    {
     "name": "stdout",
     "output_type": "stream",
     "text": [
      "Valid records = 30158 after 0.016339 s\n"
     ]
    }
   ],
   "source": [
    "start = time.time()\n",
    "content = open('in.txt').read().split('\\n\\n')\n",
    "def check_pattern(pattern):\n",
    "    pattern_temp = pattern.split('\\n')\n",
    "    rr = range(0,len(pattern_temp))\n",
    "    cr = range(0, len(pattern_temp[0]))\n",
    "    #row search\n",
    "    for i,line in enumerate(pattern_temp[:-1]):\n",
    "        if line == pattern_temp[i+1]:\n",
    "            reflection1 = i\n",
    "            reflection2 = i+1\n",
    "            while((rr.count(reflection1)>0) & (rr.count(reflection2)>0) & (pattern_temp[reflection1]==pattern_temp[reflection2])):\n",
    "                reflection1 -=1\n",
    "                reflection2 +=1\n",
    "                if ((rr.count(reflection1)>0) & (rr.count(reflection2)>0))==0:\n",
    "                    return (i+1)*100\n",
    "\n",
    "    for c in np.arange(len(pattern_temp[0])):\n",
    "        colstr = ''.join([l[c] for l in pattern_temp])\n",
    "        colstrnxt = ''.join([l[c+1] for l in pattern_temp])\n",
    "        if colstr == colstrnxt:\n",
    "            reflection1 = c\n",
    "            reflection2 = c+1\n",
    "            while((cr.count(reflection1)>0) & (cr.count(reflection2)>0) &\n",
    "                  (''.join([l[reflection1] for l in pattern_temp])==''.join([l[reflection2] for l in pattern_temp]))):\n",
    "                reflection1 -=1\n",
    "                reflection2 +=1\n",
    "                if ((cr.count(reflection1)>0) & (cr.count(reflection2)>0))==0:\n",
    "                    return (c+1)\n",
    "val = 0\n",
    "for ip,pattern in enumerate(content):\n",
    "    val += check_pattern(pattern)\n",
    "print('Valid records = %d after %f s' %(val,time.time()-start))"
   ]
  },
  {
   "cell_type": "code",
   "execution_count": null,
   "id": "cb3180be-fb7c-40f7-87a0-06b42df12247",
   "metadata": {},
   "outputs": [],
   "source": []
  },
  {
   "cell_type": "code",
   "execution_count": null,
   "id": "bee612f6-d24d-4ad5-be31-ab5000219b4c",
   "metadata": {},
   "outputs": [],
   "source": []
  }
 ],
 "metadata": {
  "kernelspec": {
   "display_name": "Python 3",
   "language": "python",
   "name": "python3"
  },
  "language_info": {
   "codemirror_mode": {
    "name": "ipython",
    "version": 3
   },
   "file_extension": ".py",
   "mimetype": "text/x-python",
   "name": "python",
   "nbconvert_exporter": "python",
   "pygments_lexer": "ipython3",
   "version": "3.8.8"
  }
 },
 "nbformat": 4,
 "nbformat_minor": 5
}
