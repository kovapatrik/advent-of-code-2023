{
 "cells": [
  {
   "cell_type": "code",
   "execution_count": 63,
   "id": "a581b193-8f4b-43ea-94ca-354861069703",
   "metadata": {},
   "outputs": [],
   "source": [
    "import numpy as np\n",
    "import time as t\n",
    "from collections import defaultdict"
   ]
  },
  {
   "cell_type": "code",
   "execution_count": 3,
   "id": "fbd5da3e-8a2b-4bc6-aebf-ba78ac16f27a",
   "metadata": {},
   "outputs": [],
   "source": [
    "start = t.asctime()"
   ]
  },
  {
   "cell_type": "code",
   "execution_count": 4,
   "id": "f2a9b1c0-048f-42a1-b4cd-1e32c95979a0",
   "metadata": {},
   "outputs": [
    {
     "data": {
      "text/plain": [
       "'Tue Dec  5 08:04:25 2023'"
      ]
     },
     "execution_count": 4,
     "metadata": {},
     "output_type": "execute_result"
    }
   ],
   "source": [
    "start"
   ]
  },
  {
   "cell_type": "code",
   "execution_count": 117,
   "id": "1d43ca15-7cc6-4ad8-a37f-f00174b98c6b",
   "metadata": {},
   "outputs": [],
   "source": [
    "content = open('input.txt').readlines()"
   ]
  },
  {
   "cell_type": "code",
   "execution_count": 118,
   "id": "be20a234-4517-4530-af7f-0dceba506e3c",
   "metadata": {},
   "outputs": [],
   "source": [
    "seeds = np.asarray(content[0].split()[1:]).astype(float)"
   ]
  },
  {
   "cell_type": "code",
   "execution_count": 119,
   "id": "c9d024e5-b913-498e-9930-5e080e46e982",
   "metadata": {},
   "outputs": [
    {
     "data": {
      "text/plain": [
       "array([3.13943180e+09, 5.01982050e+07, 3.64718563e+09, 1.10151761e+08,\n",
       "       2.47864167e+09, 1.39825503e+08, 4.98892555e+08, 8.91357000e+06,\n",
       "       9.61540761e+08, 4.89996751e+08, 5.68452082e+08, 1.00080382e+08,\n",
       "       9.07727477e+08, 4.21586890e+07, 1.61755213e+09, 3.12026427e+08,\n",
       "       3.42640189e+08, 9.70882680e+07, 2.04928956e+09, 3.36766062e+08])"
      ]
     },
     "execution_count": 119,
     "metadata": {},
     "output_type": "execute_result"
    }
   ],
   "source": [
    "seeds"
   ]
  },
  {
   "cell_type": "code",
   "execution_count": 122,
   "id": "d032df83-de49-4acd-9cdb-adf483e3c655",
   "metadata": {
    "tags": []
   },
   "outputs": [
    {
     "name": "stdout",
     "output_type": "stream",
     "text": [
      "new mapping\n",
      "new mapping\n",
      "new mapping\n",
      "new mapping\n",
      "new mapping\n",
      "new mapping\n",
      "new mapping\n"
     ]
    }
   ],
   "source": [
    "destination = seeds.copy()\n",
    "# destination source range\n",
    "for i,line in enumerate(content[1:]):\n",
    "    if len(line.split()) == 2: #mapping\n",
    "        print('new mapping')\n",
    "        source = destination.copy()\n",
    "        mod_numbers = np.zeros((len(source),))\n",
    "    elif len(line.split()) == 3: #convert\n",
    "        numbers = np.asarray(line.strip().split()).astype(float)\n",
    "        mod = numbers[0] - numbers[1]\n",
    "        \n",
    "        destination[[numbers[1] <= k < (numbers[1]+numbers[2]) for k in source]] = source[[numbers[1] <= k < (numbers[1]+numbers[2]) for k in source] & (mod_numbers==0)] + mod\n",
    "        mod_numbers[[numbers[1] <= k < (numbers[1]+numbers[2]) for k in source]] = 1 \n",
    "        #print(numbers,source,destination)"
   ]
  },
  {
   "cell_type": "code",
   "execution_count": 123,
   "id": "962a3906-f9e1-47f4-97b8-8e32424924ba",
   "metadata": {},
   "outputs": [
    {
     "data": {
      "text/plain": [
       "462648396.0"
      ]
     },
     "execution_count": 123,
     "metadata": {},
     "output_type": "execute_result"
    }
   ],
   "source": [
    "np.min(destination)"
   ]
  },
  {
   "cell_type": "code",
   "execution_count": 231,
   "id": "2c45c947-0644-4b1b-975e-99e5df14b56e",
   "metadata": {},
   "outputs": [],
   "source": [
    "content = open('input.txt').readlines()\n",
    "seeds = np.asarray(content[0].split()[1:]).astype(float)"
   ]
  },
  {
   "cell_type": "code",
   "execution_count": 232,
   "id": "c2bd3354-c7a4-46e1-b499-44148de510ba",
   "metadata": {},
   "outputs": [
    {
     "data": {
      "text/plain": [
       "array([3.13943180e+09, 5.01982050e+07, 3.64718563e+09, 1.10151761e+08,\n",
       "       2.47864167e+09, 1.39825503e+08, 4.98892555e+08, 8.91357000e+06,\n",
       "       9.61540761e+08, 4.89996751e+08, 5.68452082e+08, 1.00080382e+08,\n",
       "       9.07727477e+08, 4.21586890e+07, 1.61755213e+09, 3.12026427e+08,\n",
       "       3.42640189e+08, 9.70882680e+07, 2.04928956e+09, 3.36766062e+08])"
      ]
     },
     "execution_count": 232,
     "metadata": {},
     "output_type": "execute_result"
    }
   ],
   "source": [
    "seeds"
   ]
  },
  {
   "cell_type": "code",
   "execution_count": 233,
   "id": "fd86e554-8d19-4a4c-bc57-543b16101ba3",
   "metadata": {},
   "outputs": [
    {
     "data": {
      "text/plain": [
       "['seeds: 3139431799 50198205 3647185634 110151761 2478641666 139825503 498892555 8913570 961540761 489996751 568452082 100080382 907727477 42158689 1617552130 312026427 342640189 97088268 2049289560 336766062\\n',\n",
       " '\\n',\n",
       " 'seed-to-soil map:\\n',\n",
       " '1615836342 1401909974 23067952\\n',\n",
       " '785532007 269485885 88937774\\n',\n",
       " '3019002892 2773729385 10470414\\n']"
      ]
     },
     "execution_count": 233,
     "metadata": {},
     "output_type": "execute_result"
    }
   ],
   "source": [
    "content[:6]"
   ]
  },
  {
   "cell_type": "code",
   "execution_count": 234,
   "id": "e774d165-8c85-4e68-9fd3-4a3a4f38f60d",
   "metadata": {},
   "outputs": [],
   "source": [
    "seed_range = defaultdict()"
   ]
  },
  {
   "cell_type": "code",
   "execution_count": 235,
   "id": "676557b1-5879-485a-a19f-91f8c5e8c264",
   "metadata": {},
   "outputs": [],
   "source": [
    "for i in np.arange(0, len(seeds),2):\n",
    "    seed_range[i//2]=[seeds[i],seeds[i+1]]"
   ]
  },
  {
   "cell_type": "code",
   "execution_count": 236,
   "id": "f29cf5de-aeb2-4f88-82fd-952df9009bcf",
   "metadata": {},
   "outputs": [
    {
     "data": {
      "text/plain": [
       "defaultdict(None,\n",
       "            {0: [3139431799.0, 50198205.0],\n",
       "             1: [3647185634.0, 110151761.0],\n",
       "             2: [2478641666.0, 139825503.0],\n",
       "             3: [498892555.0, 8913570.0],\n",
       "             4: [961540761.0, 489996751.0],\n",
       "             5: [568452082.0, 100080382.0],\n",
       "             6: [907727477.0, 42158689.0],\n",
       "             7: [1617552130.0, 312026427.0],\n",
       "             8: [342640189.0, 97088268.0],\n",
       "             9: [2049289560.0, 336766062.0]})"
      ]
     },
     "execution_count": 236,
     "metadata": {},
     "output_type": "execute_result"
    }
   ],
   "source": [
    "seed_range"
   ]
  },
  {
   "cell_type": "code",
   "execution_count": 243,
   "id": "954f16cb-790b-49d3-80de-5a0ddf253351",
   "metadata": {},
   "outputs": [],
   "source": [
    "seed_range = defaultdict()\n",
    "for i in np.arange(0, len(seeds),2):\n",
    "    seed_range[i//2]=[seeds[i],seeds[i+1]]\n",
    "# destination source range\n",
    "for i,line in enumerate(content[1:]):\n",
    "    if len(line.split()) == 2: #mapping\n",
    "#         print('new mapping')\n",
    "        range_mod = np.zeros(len(seed_range),)\n",
    "    elif len(line.split()) == 3: #convert\n",
    "        numbers = np.asarray(line.strip().split()).astype(float)\n",
    "        mod = numbers[0] - numbers[1]\n",
    "        ms = numbers[1]\n",
    "        mr = numbers[2]\n",
    "        for key in np.arange(0,len(seed_range)):            \n",
    "            s = seed_range[key][0]\n",
    "            r = seed_range[key][1]\n",
    "            if range_mod[key]==0:\n",
    "                if ms <= s < ms+mr:\n",
    "                    if s+r <= ms+mr:\n",
    "#                         print('Case1')\n",
    "                        seed_range[key][0]+=mod\n",
    "                        range_mod[key] = 1\n",
    "                    else:\n",
    "#                         print('Case2')\n",
    "                        seed_range[key][0]+=mod\n",
    "                        seed_range[key][1] = ms+mr-s\n",
    "                        range_mod[key] = 1\n",
    "                        seed_range[len(seed_range)] =[ms+mr,s+r-ms-mr] \n",
    "                        range_mod = np.append(range_mod,0)\n",
    "                if s < ms < s+r:\n",
    "                    if ms + mr <= s+r:\n",
    "#                         print('Case3')\n",
    "                        seed_range[key][1] = ms - s\n",
    "                        seed_range[len(seed_range)] =[ms+mod,mr]\n",
    "                        range_mod = np.append(range_mod,1)\n",
    "                        seed_range[len(seed_range)] =[ms+mr,s+r-(ms+mr)] \n",
    "                        range_mod = np.append(range_mod,0)\n",
    "                    else:\n",
    "#                         print('Case4')\n",
    "                        seed_range[key][1] = ms - s\n",
    "                        range_mod[key] = 0\n",
    "                        seed_range[len(seed_range)] =[ms+mod, s+r-ms] \n",
    "                        range_mod = np.append(range_mod,1)\n",
    "#         print(numbers, seed_range, range_mod)\n"
   ]
  },
  {
   "cell_type": "code",
   "execution_count": 244,
   "id": "dd6dd772-dc0b-4c46-8623-c10338d0b87d",
   "metadata": {
    "tags": []
   },
   "outputs": [
    {
     "data": {
      "text/plain": [
       "defaultdict(None,\n",
       "            {0: [4111139999.0, 50198205.0],\n",
       "             1: [1241683279.0, 13499572.0],\n",
       "             2: [1907790594.0, 8305737.0],\n",
       "             3: [3475769331.0, 8913570.0],\n",
       "             4: [4287055637.0, 7911659.0],\n",
       "             5: [3545328858.0, 3817989.0],\n",
       "             6: [462648396.0, 21235331.0],\n",
       "             7: [1740683015.0, 7538709.0],\n",
       "             8: [744867300.0, 15783470.0],\n",
       "             9: [1352910816.0, 79614599.0],\n",
       "             10: [1715798410.0, 23067952.0],\n",
       "             11: [2976735757.0, 3816726.0],\n",
       "             12: [760650770.0, 22032773.0],\n",
       "             13: [2742789807.0, 22868014.0],\n",
       "             14: [3170188405.0, 8016032.0],\n",
       "             15: [1694521649.0, 21276761.0],\n",
       "             16: [3295927667.0, 43528687.0],\n",
       "             17: [2475466813.0, 35194395.0],\n",
       "             18: [2043938032.0, 33361760.0],\n",
       "             19: [3897773446.0, 7744747.0],\n",
       "             20: [212566997.0, 67270269.0],\n",
       "             21: [1468197831.0, 3474346.0],\n",
       "             22: [4004872427.0, 26212066.0],\n",
       "             23: [2835803298.0, 43695474.0],\n",
       "             24: [2784682647.0, 15660053.0],\n",
       "             25: [3339456354.0, 3531543.0],\n",
       "             26: [1035910942.0, 23105631.0],\n",
       "             27: [3026607661.0, 21229805.0],\n",
       "             28: [2821868170.0, 10335567.0],\n",
       "             29: [10516670.0, 19486914.0],\n",
       "             30: [3106188396.0, 13825639.0],\n",
       "             31: [3148330897.0, 15376299.0],\n",
       "             32: [782683543.0, 7798576.0],\n",
       "             33: [171049374.0, 16133.0],\n",
       "             34: [2252918702.0, 60049336.0],\n",
       "             35: [3549146847.0, 11041999.0],\n",
       "             36: [4031084493.0, 17054635.0],\n",
       "             37: [2958117406.0, 18618351.0],\n",
       "             38: [861652553.0, 23060617.0],\n",
       "             39: [2450552639.0, 0.0],\n",
       "             40: [4267517783.0, 7883259.0],\n",
       "             41: [983477780.0, 7047876.0],\n",
       "             42: [2573399752.0, 34806841.0],\n",
       "             43: [3381827675.0, 58578211.0],\n",
       "             44: [3620012808.0, 22742860.0],\n",
       "             45: [3905518193.0, 9816658.0],\n",
       "             46: [2416000278.0, 12420518.0],\n",
       "             47: [2077299792.0, 38838090.0],\n",
       "             48: [2993920799.0, 32686862.0],\n",
       "             49: [4003504809.0, 1367618.0],\n",
       "             50: [2440454271.0, 4890266.0],\n",
       "             51: [2312968038.0, 1833365.0],\n",
       "             52: [3773589205.0, 6535603.0],\n",
       "             53: [2953226034.0, 4891372.0],\n",
       "             54: [2690643378.0, 25135872.0],\n",
       "             55: [279837266.0, 52302440.0],\n",
       "             56: [2983269517.0, 10651282.0],\n",
       "             57: [1819598088.0, 45942854.0],\n",
       "             58: [2765657821.0, 12422689.0],\n",
       "             59: [2520479.0, 7996191.0],\n",
       "             60: [2338748550.0, 10719813.0],\n",
       "             61: [3142079538.0, 4022845.0],\n",
       "             62: [171065507.0, 6530680.0],\n",
       "             63: [2378766966.0, 0.0],\n",
       "             64: [3047837466.0, 16800560.0],\n",
       "             65: [893008220.0, 6109484.0],\n",
       "             66: [1255182851.0, 33829781.0],\n",
       "             67: [947174507.0, 17074069.0],\n",
       "             68: [1692669589.0, 1852060.0],\n",
       "             69: [942937748.0, 2283080.0],\n",
       "             70: [3959898780.0, 0.0],\n",
       "             71: [3213648685.0, 14773572.0],\n",
       "             72: [2465506689.0, 9960124.0],\n",
       "             73: [407118465.0, 644295.0],\n",
       "             74: [2949632966.0, 3593068.0],\n",
       "             75: [2349468363.0, 6923500.0],\n",
       "             76: [30003584.0, 29449544.0],\n",
       "             77: [3915334851.0, 21378354.0],\n",
       "             78: [3979333522.0, 24171287.0],\n",
       "             79: [1659982483.0, 20040485.0],\n",
       "             80: [1540091856.0, 12437739.0],\n",
       "             81: [3826014138.0, 46969763.0],\n",
       "             82: [4181164921.0, 7847769.0],\n",
       "             83: [2715779250.0, 1588192.0],\n",
       "             84: [114327618.0, 26953293.0],\n",
       "             85: [714677337.0, 6040743.0],\n",
       "             86: [93725110.0, 20602508.0],\n",
       "             87: [3228422257.0, 67505410.0],\n",
       "             88: [848612454.0, 13040099.0],\n",
       "             89: [3965094386.0, 14239136.0],\n",
       "             90: [483883727.0, 2463697.0]})"
      ]
     },
     "execution_count": 244,
     "metadata": {},
     "output_type": "execute_result"
    }
   ],
   "source": [
    "seed_range"
   ]
  },
  {
   "cell_type": "code",
   "execution_count": 245,
   "id": "64177581-d79b-4ff5-a390-8c6d66c7646a",
   "metadata": {
    "tags": []
   },
   "outputs": [],
   "source": [
    "min_val = np.inf\n",
    "for key in seed_range.keys():\n",
    "    if seed_range[key][0]<min_val:\n",
    "        min_val = seed_range[key][0]"
   ]
  },
  {
   "cell_type": "code",
   "execution_count": 246,
   "id": "f8ab9c60-a5f9-4b9c-8b0e-0ffa7c995863",
   "metadata": {},
   "outputs": [
    {
     "data": {
      "text/plain": [
       "2520479.0"
      ]
     },
     "execution_count": 246,
     "metadata": {},
     "output_type": "execute_result"
    }
   ],
   "source": [
    "min_val"
   ]
  },
  {
   "cell_type": "code",
   "execution_count": null,
   "id": "ae3c6388-93e5-4f16-8133-13e859da0b0b",
   "metadata": {},
   "outputs": [],
   "source": []
  }
 ],
 "metadata": {
  "kernelspec": {
   "display_name": "Python 3",
   "language": "python",
   "name": "python3"
  },
  "language_info": {
   "codemirror_mode": {
    "name": "ipython",
    "version": 3
   },
   "file_extension": ".py",
   "mimetype": "text/x-python",
   "name": "python",
   "nbconvert_exporter": "python",
   "pygments_lexer": "ipython3",
   "version": "3.8.8"
  }
 },
 "nbformat": 4,
 "nbformat_minor": 5
}
