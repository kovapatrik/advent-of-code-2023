{
 "cells": [
  {
   "cell_type": "markdown",
   "id": "8ea1113b-3621-4105-ba2a-d67e2891eed4",
   "metadata": {},
   "source": [
    "## Task1"
   ]
  },
  {
   "cell_type": "markdown",
   "id": "605af5f2-5e76-47fc-888f-0c8dc1cf502f",
   "metadata": {},
   "source": [
    "## find any number with adjecant symbol"
   ]
  },
  {
   "cell_type": "code",
   "execution_count": 22,
   "id": "0d8ec3d7-58f5-4cbb-936e-0edd801dd1cb",
   "metadata": {},
   "outputs": [],
   "source": [
    "import numpy as np"
   ]
  },
  {
   "cell_type": "code",
   "execution_count": 92,
   "id": "eab01ccc-0ddb-4543-979a-1fda1cf3afe7",
   "metadata": {},
   "outputs": [],
   "source": [
    "fid = open('input.txt')"
   ]
  },
  {
   "cell_type": "code",
   "execution_count": 93,
   "id": "ebdfcf66-3435-444e-a7ad-437e6a29cce4",
   "metadata": {},
   "outputs": [],
   "source": [
    "content = fid.readlines()"
   ]
  },
  {
   "cell_type": "code",
   "execution_count": 101,
   "id": "f0f7bfa0-190a-4b5f-8abc-38dee31d084d",
   "metadata": {},
   "outputs": [
    {
     "data": {
      "text/plain": [
       "['...358...527..345..746.978....................*.........................607..798..899.........86.........*478.......888....949..767..807....\\n',\n",
       " '.....*...*.......%..............743*715..723...56................81.........*....=........345.........802.......776*...............$........\\n',\n",
       " '....26.743..........&943.................................................971.................%....527.................*....%...........@....\\n',\n",
       " '........................................782...............665......................532.......................998...991.702.542....406.779...']"
      ]
     },
     "execution_count": 101,
     "metadata": {},
     "output_type": "execute_result"
    }
   ],
   "source": [
    "content[-4:]"
   ]
  },
  {
   "cell_type": "code",
   "execution_count": 129,
   "id": "bf2085f0-6d55-4079-b9a4-2db5c813114c",
   "metadata": {},
   "outputs": [],
   "source": [
    "minrow = 0\n",
    "maxrow = len(content)-1\n",
    "mincol = 0\n",
    "maxcol = len(content[0].strip())\n",
    "symbols = ['!', '\\\"', '#', '$', '%', '&', '\\'', '(', ')', '*', '+', ',', '-', '/', ':', ';', '<', '=', '>', '?', '@', '[', '\\\\', ']', '^', '_', '`', ']', '{', '|', '}', '~']\n",
    "def check_adj_symbol(row,number_start, number_end):\n",
    "#     symbolfound = False\n",
    "    for r in np.arange(row-1, row+2):\n",
    "#         print(r)\n",
    "        for c in np.arange(number_start-1,number_end+1):\n",
    "#             print(c)\n",
    "            if (r>=minrow) and (r<=maxrow) and (c>=mincol) and (c<=maxcol):\n",
    "#                 print(r,c,content[r][c])\n",
    "                if content[r][c] in symbols:\n",
    "                    return True\n",
    "    return False\n",
    "\n",
    "def check_adj_symbol_v2(row,number_start, number_end):\n",
    "#     symbolfound = False\n",
    "    for r in np.arange(row-1, row+2):\n",
    "#         print(r)\n",
    "        for c in np.arange(number_start-1,number_end+2):\n",
    "#             print(c)\n",
    "            if (r>=minrow) and (r<=maxrow) and (c>=mincol) and (c<=maxcol):\n",
    "#                 print(r,c,content[r][c])\n",
    "                if content[r][c] in symbols:\n",
    "                    return True\n",
    "    return False\n",
    "    "
   ]
  },
  {
   "cell_type": "code",
   "execution_count": 132,
   "id": "ebde270a-5948-459b-bac5-e2dabb6f3f23",
   "metadata": {
    "tags": []
   },
   "outputs": [
    {
     "name": "stdout",
     "output_type": "stream",
     "text": [
      "12 34 532 False\n",
      "18 104 547 False\n",
      "38 0 672 False\n",
      "44 120 955 False\n",
      "94 79 484 False\n"
     ]
    }
   ],
   "source": [
    "number_start = -1\n",
    "number_end = -1\n",
    "sum_part = 0\n",
    "for i,line in enumerate(content):\n",
    "    for j, char in enumerate(line.replace('\\n','.')):\n",
    "        if char.isdigit():\n",
    "            if number_start == -1:\n",
    "                number_start = j\n",
    "#                 print(char, number_start)\n",
    "        elif (char.isdigit()==False) and (number_start >-1) and (number_end ==-1):\n",
    "                number_end = j\n",
    "#                 print(char, number_end)\n",
    "        if (number_start > -1) and (number_end > -1):\n",
    "            if check_adj_symbol(i,number_start, number_end) != check_adj_symbol_v2(i,number_start, number_end):\n",
    "                print(i, number_start,content[i][number_start:number_end], check_adj_symbol(i,number_start, number_end))\n",
    "            \n",
    "            if check_adj_symbol(i,number_start, number_end):\n",
    "                part_number = int(content[i][number_start:number_end])\n",
    "#                 print(part_number)\n",
    "                sum_part = sum_part + part_number\n",
    "            number_end = -1\n",
    "            number_start = -1\n",
    "            "
   ]
  },
  {
   "cell_type": "code",
   "execution_count": 127,
   "id": "4a5d0d38-a5dc-47d6-a137-a13e9c30bd45",
   "metadata": {},
   "outputs": [
    {
     "data": {
      "text/plain": [
       "530849"
      ]
     },
     "execution_count": 127,
     "metadata": {},
     "output_type": "execute_result"
    }
   ],
   "source": [
    "sum_part"
   ]
  },
  {
   "cell_type": "markdown",
   "id": "3c1bf7c9-1feb-4d49-bd5e-8b70ed6f767d",
   "metadata": {},
   "source": [
    "## Task2\n",
    "* find number and save the location if starts nearby in dictionary"
   ]
  },
  {
   "cell_type": "code",
   "execution_count": 164,
   "id": "61692015-bb35-4831-9e04-be1e69afe170",
   "metadata": {},
   "outputs": [],
   "source": [
    "minrow = 0\n",
    "maxrow = len(content)-1\n",
    "mincol = 0\n",
    "maxcol = len(content[0].strip())\n",
    "symbol_star = ['*']\n",
    "\n",
    "def check_adj_star(row,number_start, number_end):\n",
    "#     symbolfound = False\n",
    "    for r in np.arange(row-1, row+2):\n",
    "#         print(r)\n",
    "        for c in np.arange(number_start-1,number_end+1):\n",
    "#             print(c)\n",
    "            if (r>=minrow) and (r<=maxrow) and (c>=mincol) and (c<=maxcol):\n",
    "#                 print(r,c,content[r][c])\n",
    "                if content[r][c] in symbol_star:\n",
    "                    return True,r,c\n",
    "    return False,-1,-1\n",
    "    "
   ]
  },
  {
   "cell_type": "code",
   "execution_count": 165,
   "id": "e121de97-e3ed-47ff-be39-9001d3104e89",
   "metadata": {},
   "outputs": [],
   "source": [
    "number_start = -1\n",
    "number_end = -1\n",
    "sum_part = 0\n",
    "ratio_dict = dict()\n",
    "for i,line in enumerate(content):\n",
    "    for j, char in enumerate(line.replace('\\n','.')):\n",
    "        if char.isdigit():\n",
    "            if number_start == -1:\n",
    "                number_start = j\n",
    "#                 print(char, number_start)\n",
    "        elif (char.isdigit()==False) and (number_start >-1) and (number_end ==-1):\n",
    "                number_end = j\n",
    "#                 print(char, number_end)\n",
    "        if (number_start > -1) and (number_end > -1):\n",
    "            succes, row, col = check_adj_star(i,number_start, number_end)\n",
    "            if succes:\n",
    "                if (row,col) in ratio_dict:\n",
    "                    ratio_dict[(row,col)].append(int(content[i][number_start:number_end]))\n",
    "                else:\n",
    "                    ratio_dict[(row,col)] = [int(content[i][number_start:number_end])]\n",
    "            number_end = -1\n",
    "            number_start = -1"
   ]
  },
  {
   "cell_type": "code",
   "execution_count": 167,
   "id": "c4381c92-6106-4bad-af68-e74b89fa85da",
   "metadata": {},
   "outputs": [],
   "source": [
    "sum_gearratio = 0\n",
    "for k in ratio_dict.keys():\n",
    "    if len(ratio_dict[k])==2:\n",
    "        gearratio = ratio_dict[k][0] * ratio_dict[k][1]\n",
    "        sum_gearratio = sum_gearratio + gearratio"
   ]
  },
  {
   "cell_type": "code",
   "execution_count": 168,
   "id": "3daa7e77-3590-4d39-87d3-f760e10bfb25",
   "metadata": {},
   "outputs": [
    {
     "data": {
      "text/plain": [
       "84900879"
      ]
     },
     "execution_count": 168,
     "metadata": {},
     "output_type": "execute_result"
    }
   ],
   "source": [
    "sum_gearratio"
   ]
  }
 ],
 "metadata": {
  "kernelspec": {
   "display_name": "Python 3",
   "language": "python",
   "name": "python3"
  },
  "language_info": {
   "codemirror_mode": {
    "name": "ipython",
    "version": 3
   },
   "file_extension": ".py",
   "mimetype": "text/x-python",
   "name": "python",
   "nbconvert_exporter": "python",
   "pygments_lexer": "ipython3",
   "version": "3.8.8"
  }
 },
 "nbformat": 4,
 "nbformat_minor": 5
}
