{
 "cells": [
  {
   "cell_type": "code",
   "execution_count": 3,
   "id": "2b531567-94a3-4615-848d-8171cc54f4e8",
   "metadata": {},
   "outputs": [],
   "source": [
    "import numpy as np\n"
   ]
  },
  {
   "cell_type": "code",
   "execution_count": 4,
   "id": "95980c7a-f51a-40b0-9219-b808a5023959",
   "metadata": {},
   "outputs": [],
   "source": [
    "fid = open('input.txt')"
   ]
  },
  {
   "cell_type": "code",
   "execution_count": 5,
   "id": "0dd0fc2e-54de-49ca-9a58-03915f78ebda",
   "metadata": {},
   "outputs": [],
   "source": [
    "content = fid.readlines()"
   ]
  },
  {
   "cell_type": "code",
   "execution_count": 6,
   "id": "267dbfe6-eba3-477a-8197-cb64215c610a",
   "metadata": {},
   "outputs": [
    {
     "data": {
      "text/plain": [
       "['Card   1: 72 28 41 15 98 13 27 99 93 38 | 62  5 80 81 53 29 23 25 59 72 90 19 54 86 68 73 55 21 56 27 32 15 12 42 44\\n',\n",
       " 'Card   2: 37 28 78 94 73 43 57 44 75 85 |  1 70 85 94 68 39 11 16 86 77 28 25 78 43 71 26 10 97 81 83 31 88 54 60 98\\n',\n",
       " 'Card   3: 29 62 28 53 94 87 50 67  7 24 | 62 37 95 70 38  7 28 97 24 67 78 35 94 22 21 50 10 87 33 49 92 53 29 55  2\\n']"
      ]
     },
     "execution_count": 6,
     "metadata": {},
     "output_type": "execute_result"
    }
   ],
   "source": [
    "content[:3]"
   ]
  },
  {
   "cell_type": "code",
   "execution_count": 55,
   "id": "ef6b7b4e-dfd5-4ea7-8c8b-9f76c3d6260a",
   "metadata": {},
   "outputs": [
    {
     "name": "stdout",
     "output_type": "stream",
     "text": [
      "21138\n"
     ]
    }
   ],
   "source": [
    "sum_score = 0\n",
    "for i, line in enumerate(content):\n",
    "    numbers = line.split(':')[1].strip().split(' | ')\n",
    "#     print(numbers)\n",
    "    winning_nums = np.asarray(numbers[0].split()).astype(int)\n",
    "    number_set = np.asarray(numbers[1].split()).astype(int)\n",
    "    match = np.sum(np.in1d(winning_nums,number_set))\n",
    "    if match>0:\n",
    "        score = 2**(match-1)\n",
    "        sum_score += score\n",
    "print(sum_score)"
   ]
  },
  {
   "cell_type": "markdown",
   "id": "2bc2982d-1de8-4af7-9ade-8aefbb41b037",
   "metadata": {},
   "source": [
    "## Task2\n",
    "* match creates copies of the following cards\n",
    "* score is the sum of instances"
   ]
  },
  {
   "cell_type": "code",
   "execution_count": 56,
   "id": "113d433e-c7d0-4129-916a-bbb36b71e154",
   "metadata": {},
   "outputs": [],
   "source": [
    "scratch_cards = dict()\n",
    "for i, line in enumerate(content):\n",
    "    if (i+1) in scratch_cards:\n",
    "        scratch_cards[i+1] += 1\n",
    "    else:\n",
    "        scratch_cards[i+1] = 1\n",
    "    numbers = line.split(':')[1].strip().split(' | ')\n",
    "#     print(numbers)\n",
    "    winning_nums = np.asarray(numbers[0].split()).astype(int)\n",
    "    number_set = np.asarray(numbers[1].split()).astype(int)\n",
    "    match = np.sum(np.in1d(winning_nums,number_set))\n",
    "#     print(i+1,match)\n",
    "    if match>0:\n",
    "        for followingcard in np.arange(i+2,i+2+match):\n",
    "            if followingcard in scratch_cards:\n",
    "                scratch_cards[followingcard] += scratch_cards[i+1]\n",
    "            else:\n",
    "                scratch_cards[followingcard] = scratch_cards[i+1]"
   ]
  },
  {
   "cell_type": "code",
   "execution_count": 42,
   "id": "75f59fc5-c446-41f4-9f84-f39546f5168f",
   "metadata": {
    "collapsed": true,
    "jupyter": {
     "outputs_hidden": true
    },
    "tags": []
   },
   "outputs": [
    {
     "data": {
      "text/plain": [
       "{1: 1,\n",
       " 2: 2,\n",
       " 3: 4,\n",
       " 4: 8,\n",
       " 5: 15,\n",
       " 6: 30,\n",
       " 7: 60,\n",
       " 8: 118,\n",
       " 9: 236,\n",
       " 10: 472,\n",
       " 11: 944,\n",
       " 12: 1880,\n",
       " 13: 3760,\n",
       " 14: 6454,\n",
       " 15: 12657,\n",
       " 16: 25314,\n",
       " 17: 50598,\n",
       " 18: 48658,\n",
       " 19: 96844,\n",
       " 20: 183474,\n",
       " 21: 318290,\n",
       " 22: 636580,\n",
       " 23: 1273160,\n",
       " 24: 2449476,\n",
       " 25: 845369,\n",
       " 26: 1,\n",
       " 27: 2,\n",
       " 28: 4,\n",
       " 29: 7,\n",
       " 30: 14,\n",
       " 31: 28,\n",
       " 32: 49,\n",
       " 33: 98,\n",
       " 34: 192,\n",
       " 35: 382,\n",
       " 36: 572,\n",
       " 37: 1046,\n",
       " 38: 1661,\n",
       " 39: 3294,\n",
       " 40: 6588,\n",
       " 41: 6002,\n",
       " 42: 3295,\n",
       " 43: 1,\n",
       " 44: 1,\n",
       " 45: 2,\n",
       " 46: 4,\n",
       " 47: 8,\n",
       " 48: 16,\n",
       " 49: 32,\n",
       " 50: 62,\n",
       " 51: 123,\n",
       " 52: 123,\n",
       " 53: 148,\n",
       " 54: 296,\n",
       " 55: 592,\n",
       " 56: 1176,\n",
       " 57: 584,\n",
       " 58: 461,\n",
       " 59: 1,\n",
       " 60: 2,\n",
       " 61: 4,\n",
       " 62: 8,\n",
       " 63: 16,\n",
       " 64: 29,\n",
       " 65: 58,\n",
       " 66: 87,\n",
       " 67: 174,\n",
       " 68: 348,\n",
       " 69: 692,\n",
       " 70: 1384,\n",
       " 71: 2710,\n",
       " 72: 2710,\n",
       " 73: 5396,\n",
       " 74: 5396,\n",
       " 75: 10792,\n",
       " 76: 18874,\n",
       " 77: 37661,\n",
       " 78: 44098,\n",
       " 79: 87848,\n",
       " 80: 137343,\n",
       " 81: 137343,\n",
       " 82: 1,\n",
       " 83: 2,\n",
       " 84: 4,\n",
       " 85: 8,\n",
       " 86: 16,\n",
       " 87: 32,\n",
       " 88: 60,\n",
       " 89: 120,\n",
       " 90: 240,\n",
       " 91: 480,\n",
       " 92: 960,\n",
       " 93: 1903,\n",
       " 94: 3532,\n",
       " 95: 7064,\n",
       " 96: 14000,\n",
       " 97: 14000,\n",
       " 98: 10657,\n",
       " 99: 10597,\n",
       " 100: 3533,\n",
       " 101: 3533,\n",
       " 102: 1,\n",
       " 103: 2,\n",
       " 104: 4,\n",
       " 105: 8,\n",
       " 106: 16,\n",
       " 107: 32,\n",
       " 108: 62,\n",
       " 109: 62,\n",
       " 110: 124,\n",
       " 111: 216,\n",
       " 112: 432,\n",
       " 113: 647,\n",
       " 114: 722,\n",
       " 115: 793,\n",
       " 116: 1516,\n",
       " 117: 1,\n",
       " 118: 2,\n",
       " 119: 3,\n",
       " 120: 6,\n",
       " 121: 12,\n",
       " 122: 12,\n",
       " 123: 24,\n",
       " 124: 48,\n",
       " 125: 96,\n",
       " 126: 192,\n",
       " 127: 192,\n",
       " 128: 381,\n",
       " 129: 760,\n",
       " 130: 760,\n",
       " 131: 1418,\n",
       " 132: 2836,\n",
       " 133: 5660,\n",
       " 134: 5636,\n",
       " 135: 11224,\n",
       " 136: 11224,\n",
       " 137: 20078,\n",
       " 138: 8854,\n",
       " 139: 17327,\n",
       " 140: 34654,\n",
       " 141: 14491,\n",
       " 142: 1,\n",
       " 143: 2,\n",
       " 144: 4,\n",
       " 145: 8,\n",
       " 146: 16,\n",
       " 147: 32,\n",
       " 148: 64,\n",
       " 149: 120,\n",
       " 150: 240,\n",
       " 151: 480,\n",
       " 152: 960,\n",
       " 153: 1915,\n",
       " 154: 3796,\n",
       " 155: 5677,\n",
       " 156: 1865,\n",
       " 157: 3730,\n",
       " 158: 5355,\n",
       " 159: 10526,\n",
       " 160: 21052,\n",
       " 161: 42104,\n",
       " 162: 58946,\n",
       " 163: 116932,\n",
       " 164: 58947,\n",
       " 165: 117894,\n",
       " 166: 1,\n",
       " 167: 2,\n",
       " 168: 4,\n",
       " 169: 4,\n",
       " 170: 8,\n",
       " 171: 15,\n",
       " 172: 30,\n",
       " 173: 50,\n",
       " 174: 70,\n",
       " 175: 140,\n",
       " 176: 280,\n",
       " 177: 545,\n",
       " 178: 806,\n",
       " 179: 1542,\n",
       " 180: 2138,\n",
       " 181: 2088,\n",
       " 182: 1,\n",
       " 183: 2,\n",
       " 184: 4,\n",
       " 185: 8,\n",
       " 186: 8,\n",
       " 187: 16,\n",
       " 188: 32,\n",
       " 189: 64,\n",
       " 190: 128,\n",
       " 191: 256,\n",
       " 192: 512,\n",
       " 193: 895,\n",
       " 194: 1788,\n",
       " 195: 3572,\n",
       " 196: 7136,\n",
       " 197: 14208,\n",
       " 198: 13009}"
      ]
     },
     "execution_count": 42,
     "metadata": {},
     "output_type": "execute_result"
    }
   ],
   "source": [
    "scratch_cards"
   ]
  },
  {
   "cell_type": "code",
   "execution_count": 51,
   "id": "ab1e5541-68af-4930-9313-0b3a64fc1203",
   "metadata": {
    "tags": []
   },
   "outputs": [],
   "source": [
    "sum_cards = 0\n",
    "for k in scratch_cards.keys():\n",
    "    sum_cards = sum_cards + scratch_cards[k]"
   ]
  },
  {
   "cell_type": "code",
   "execution_count": 52,
   "id": "7f8238c9-2465-421f-80f0-eaff097b187f",
   "metadata": {},
   "outputs": [
    {
     "data": {
      "text/plain": [
       "7185540"
      ]
     },
     "execution_count": 52,
     "metadata": {},
     "output_type": "execute_result"
    }
   ],
   "source": [
    "sum_cards"
   ]
  },
  {
   "cell_type": "code",
   "execution_count": 53,
   "id": "d319ebc6-dc09-440d-8095-afad81a5b686",
   "metadata": {},
   "outputs": [
    {
     "name": "stdout",
     "output_type": "stream",
     "text": [
      "10\n"
     ]
    }
   ],
   "source": [
    "b=6\n",
    "b+=4\n",
    "print(b)"
   ]
  }
 ],
 "metadata": {
  "kernelspec": {
   "display_name": "Python 3",
   "language": "python",
   "name": "python3"
  },
  "language_info": {
   "codemirror_mode": {
    "name": "ipython",
    "version": 3
   },
   "file_extension": ".py",
   "mimetype": "text/x-python",
   "name": "python",
   "nbconvert_exporter": "python",
   "pygments_lexer": "ipython3",
   "version": "3.8.8"
  }
 },
 "nbformat": 4,
 "nbformat_minor": 5
}
