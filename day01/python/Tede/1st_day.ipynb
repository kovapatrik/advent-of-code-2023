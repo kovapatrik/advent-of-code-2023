{
 "cells": [
  {
   "cell_type": "markdown",
   "metadata": {},
   "source": [
    "# 1st day"
   ]
  },
  {
   "cell_type": "markdown",
   "metadata": {},
   "source": [
    "part 1\n",
    "\n",
    "As they're making the final adjustments, they discover that their calibration document (your puzzle input) has been amended by a very young Elf who was apparently just excited to show off her art skills. Consequently, the Elves are having trouble reading the values on the document.\n",
    "\n",
    "The newly-improved calibration document consists of lines of text; each line originally contained a specific calibration value that the Elves now need to recover. On each line, the calibration value can be found by combining the first digit and the last digit (in that order) to form a single two-digit number.\n",
    "\n",
    "For example:\n",
    "\n",
    "1abc2\n",
    "\n",
    "pqr3stu8vwx\n",
    "\n",
    "a1b2c3d4e5f\n",
    "\n",
    "treb7uchet\n",
    "\n",
    "In this example, the calibration values of these four lines are 12, 38, 15, and 77. Adding these together produces 142.\n",
    "\n",
    "Consider your entire calibration document. What is the sum of all of the calibration values?"
   ]
  },
  {
   "cell_type": "code",
   "execution_count": 3,
   "metadata": {},
   "outputs": [
    {
     "name": "stdout",
     "output_type": "stream",
     "text": [
      "53080\n"
     ]
    }
   ],
   "source": [
    "file_path = r'input.txt'\n",
    "sum = 0\n",
    "\n",
    "with open(file_path, 'r') as f:\n",
    "    for line in f:\n",
    "        current_line = line.strip()\n",
    "        numbers = [c for c in current_line if c in ['0','1','2','3','4','5','6','7','8','9']]\n",
    "        sum += int(''.join([numbers[0], numbers[-1]]))\n",
    "\n",
    "print(sum)\n"
   ]
  },
  {
   "cell_type": "markdown",
   "metadata": {},
   "source": [
    "part 2\n",
    "\n",
    "--- Part Two ---\n",
    "Your calculation isn't quite right. It looks like some of the digits are actually spelled out with letters: one, two, three, four, five, six, seven, eight, and nine also count as valid \"digits\".\n",
    "\n",
    "Equipped with this new information, you now need to find the real first and last digit on each line. For example:\n",
    "\n",
    "two1nine\n",
    "\n",
    "eightwothree\n",
    "\n",
    "abcone2threexyz\n",
    "\n",
    "xtwone3four\n",
    "\n",
    "4nineeightseven2\n",
    "\n",
    "zoneight234\n",
    "\n",
    "7pqrstsixteen\n",
    "\n",
    "In this example, the calibration values are 29, 83, 13, 24, 42, 14, and 76. Adding these together produces 281.\n",
    "\n",
    "What is the sum of all of the calibration values?"
   ]
  },
  {
   "cell_type": "code",
   "execution_count": 1,
   "metadata": {},
   "outputs": [
    {
     "name": "stdout",
     "output_type": "stream",
     "text": [
      "53268\n"
     ]
    }
   ],
   "source": [
    "file_path = r\"input.txt\"\n",
    "sum = 0\n",
    "\n",
    "string_digit_name = ['one', 'two', 'three', 'four', 'five', 'six', 'seven', 'eight', 'nine']\n",
    "string_digit = ['1', '2', '3', '4', '5', '6', '7', '8', '9']\n",
    "\n",
    "with open(file_path, 'r') as f:\n",
    "    for line in f:\n",
    "        current_line = line.strip()\n",
    "        for Iname, Idigit in zip(string_digit_name, string_digit):\n",
    "            if Iname in current_line:\n",
    "\n",
    "                current_line = current_line.replace(Iname, ''.join([Iname, Idigit, Iname]))\n",
    "\n",
    "\n",
    "        numbers = [c for c in current_line if c in string_digit]\n",
    "        sum += int(''.join([numbers[0], numbers[-1]]))\n",
    "        \n",
    "            \n",
    "\n",
    "print(sum)"
   ]
  },
  {
   "cell_type": "code",
   "execution_count": null,
   "metadata": {},
   "outputs": [],
   "source": []
  }
 ],
 "metadata": {
  "kernelspec": {
   "display_name": "advent_of_code_env",
   "language": "python",
   "name": "python3"
  },
  "language_info": {
   "codemirror_mode": {
    "name": "ipython",
    "version": 3
   },
   "file_extension": ".py",
   "mimetype": "text/x-python",
   "name": "python",
   "nbconvert_exporter": "python",
   "pygments_lexer": "ipython3",
   "version": "3.9.0"
  }
 },
 "nbformat": 4,
 "nbformat_minor": 2
}
