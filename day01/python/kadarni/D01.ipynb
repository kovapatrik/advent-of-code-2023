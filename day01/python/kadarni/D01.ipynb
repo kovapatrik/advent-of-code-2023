{
 "cells": [
  {
   "cell_type": "code",
   "execution_count": 17,
   "id": "05a73e7e-2b0c-4019-8e70-8b32185d4540",
   "metadata": {},
   "outputs": [],
   "source": [
    "import numpy as np"
   ]
  },
  {
   "cell_type": "markdown",
   "id": "f2c80cbe-3d03-43f9-b1af-dcd55428b1cc",
   "metadata": {},
   "source": [
    "# Part1"
   ]
  },
  {
   "cell_type": "markdown",
   "id": "2bc34878-28a2-4466-9e40-0cf197b5c3b2",
   "metadata": {},
   "source": [
    "## open the file"
   ]
  },
  {
   "cell_type": "code",
   "execution_count": 3,
   "id": "af866ab0-b298-4b1c-a38d-e0f99a8b1466",
   "metadata": {},
   "outputs": [],
   "source": [
    "fid = open('input.txt','r')"
   ]
  },
  {
   "cell_type": "markdown",
   "id": "768300d0-0e23-4e7d-9941-d8e8694a87e0",
   "metadata": {},
   "source": [
    "## read the content into lines"
   ]
  },
  {
   "cell_type": "code",
   "execution_count": 4,
   "id": "feff03ec-7eea-4a6e-9288-c2e93bcdba7d",
   "metadata": {},
   "outputs": [],
   "source": [
    "content = fid.readlines()"
   ]
  },
  {
   "cell_type": "markdown",
   "id": "c69de849-605a-427d-8e01-4e6e45f01e99",
   "metadata": {},
   "source": [
    "## check the content"
   ]
  },
  {
   "cell_type": "code",
   "execution_count": 26,
   "id": "5aca95fe-80e1-4b0b-b925-f6893deef4e8",
   "metadata": {
    "tags": []
   },
   "outputs": [
    {
     "data": {
      "text/plain": [
       "['hcpjssql4kjhbcqzkvr2fivebpllzqbkhg\\n',\n",
       " '4threethreegctxg3dmbm1\\n',\n",
       " '1lxk2hfmcgxtmps89mdvkl\\n']"
      ]
     },
     "execution_count": 26,
     "metadata": {},
     "output_type": "execute_result"
    }
   ],
   "source": [
    "content[:3]"
   ]
  },
  {
   "cell_type": "markdown",
   "id": "30f4aca4-8192-491d-a1d4-caea7fc07a7d",
   "metadata": {},
   "source": [
    "## Algo steps\n",
    "* check each line from left and right until the first digit is not found\n",
    "* concatenate the digits\n",
    "* and sum them"
   ]
  },
  {
   "cell_type": "code",
   "execution_count": 355,
   "id": "153b8fd9-af19-4617-8a18-2e460f19a2ce",
   "metadata": {},
   "outputs": [],
   "source": [
    "sum_cal_value = 0\n",
    "for i,line in enumerate(content):\n",
    "    for j,c1 in enumerate(line):\n",
    "        if c1.isdigit():\n",
    "            break\n",
    "    for k,c2 in enumerate(reversed(line)):\n",
    "        if c2.isdigit():\n",
    "            calibration_value = int(c1+c2)\n",
    "            sum_cal_value = sum_cal_value + calibration_value\n",
    "            break\n",
    "    \n",
    "        \n",
    "    "
   ]
  },
  {
   "cell_type": "code",
   "execution_count": 356,
   "id": "458efe5f-e55b-4906-8f70-4b6b90684020",
   "metadata": {},
   "outputs": [
    {
     "name": "stdout",
     "output_type": "stream",
     "text": [
      "55816\n"
     ]
    }
   ],
   "source": [
    "print(sum_cal_value)"
   ]
  },
  {
   "cell_type": "markdown",
   "id": "2c28d9be-aaac-4dc6-927d-4de0e23c883e",
   "metadata": {},
   "source": [
    "## Make a function for further use"
   ]
  },
  {
   "cell_type": "code",
   "execution_count": 146,
   "id": "edd906e5-30c6-40f1-b3de-f65aed1435df",
   "metadata": {},
   "outputs": [],
   "source": [
    "def find_and_sum():\n",
    "    fid = open('input.txt','r')\n",
    "    content = fid.readlines()\n",
    "    sum_cal_value = 0\n",
    "    for i,line in enumerate(content):\n",
    "        for j,c1 in enumerate(line):\n",
    "            if c1.isdigit():\n",
    "                break\n",
    "        for k,c2 in enumerate(reversed(line)):\n",
    "            if c2.isdigit():\n",
    "                calibration_value = int(c1+c2)\n",
    "                sum_cal_value = sum_cal_value + calibration_value\n",
    "                break\n",
    "    return sum_cal_value"
   ]
  },
  {
   "cell_type": "code",
   "execution_count": 147,
   "id": "8e318810-e332-4de2-b1af-6e48f13484a2",
   "metadata": {},
   "outputs": [
    {
     "name": "stdout",
     "output_type": "stream",
     "text": [
      "3.52 ms ± 205 µs per loop (mean ± std. dev. of 7 runs, 100 loops each)\n"
     ]
    }
   ],
   "source": [
    "%timeit find_and_sum()"
   ]
  },
  {
   "cell_type": "code",
   "execution_count": 149,
   "id": "ee30ad52-11d8-4c71-8b11-7c1c3c72fcac",
   "metadata": {},
   "outputs": [
    {
     "data": {
      "text/plain": [
       "55816"
      ]
     },
     "execution_count": 149,
     "metadata": {},
     "output_type": "execute_result"
    }
   ],
   "source": [
    "find_and_sum()"
   ]
  },
  {
   "cell_type": "markdown",
   "id": "79fe6eff-6279-4d20-867f-25bc7a2733bb",
   "metadata": {},
   "source": [
    "## Part2"
   ]
  },
  {
   "cell_type": "markdown",
   "id": "82b570a0-282f-4944-be43-71e56e4a036b",
   "metadata": {},
   "source": [
    "## Task:\n",
    "- the line can consist a written digit, is has to be considered as a number as well"
   ]
  },
  {
   "cell_type": "code",
   "execution_count": 410,
   "id": "bce5defe-006b-4277-84ef-4bcd3b704ab5",
   "metadata": {},
   "outputs": [],
   "source": [
    "digits = {'one':'1',\n",
    "          'two':'2',\n",
    "          'three':'3',\n",
    "          'four':'4',\n",
    "          'five':'5',\n",
    "          'six':'6',\n",
    "          'seven':'7',\n",
    "          'eight':'8',\n",
    "          'nine':'9'}"
   ]
  },
  {
   "cell_type": "markdown",
   "id": "46ddba5e-1588-4bb0-8fd2-872801cda860",
   "metadata": {},
   "source": [
    "## Solution#1: simple doubling with digit insertion"
   ]
  },
  {
   "cell_type": "code",
   "execution_count": 327,
   "id": "d05b81db-8403-4018-99cc-5df04745543a",
   "metadata": {},
   "outputs": [],
   "source": [
    "def replace_digits():\n",
    "    fid = open('input.txt','r')\n",
    "    content = fid.readlines()\n",
    "    sum_cal_value = 0\n",
    "    for i,line in enumerate(content):\n",
    "        line2 = line\n",
    "        for k in digits:\n",
    "            line2 = line2.replace(k,k+digits[k]+k)\n",
    "        for j,c1 in enumerate(line2):\n",
    "            if c1.isdigit():\n",
    "                break\n",
    "        for k,c2 in enumerate(reversed(line2)):\n",
    "            if c2.isdigit():\n",
    "                calibration_value = int(c1+c2)\n",
    "                sum_cal_value = sum_cal_value + calibration_value\n",
    "                break\n",
    "    return sum_cal_value"
   ]
  },
  {
   "cell_type": "code",
   "execution_count": 328,
   "id": "3a61b1bc-319c-47bf-b81f-2ff023be0dd6",
   "metadata": {},
   "outputs": [
    {
     "data": {
      "text/plain": [
       "54980"
      ]
     },
     "execution_count": 328,
     "metadata": {},
     "output_type": "execute_result"
    }
   ],
   "source": [
    "replace_digits()"
   ]
  },
  {
   "cell_type": "markdown",
   "id": "d5b24da2-0c9c-4a32-bcd8-2178e6226420",
   "metadata": {},
   "source": [
    "## Solution#2"
   ]
  },
  {
   "cell_type": "code",
   "execution_count": 433,
   "id": "df188fad-6e60-4e07-8168-9289b8fe9ac2",
   "metadata": {},
   "outputs": [],
   "source": [
    "def replace_digits_v2():\n",
    "    fid = open('input.txt','r')\n",
    "    content = fid.readlines()\n",
    "    sum_cal_value = 0\n",
    "    keys = list(digits.keys())\n",
    "    for i,line in enumerate(content):\n",
    "        ind = [line.find(k) if line.find(k) > -1 else 999 for k in digits]\n",
    "        indr = [line.rfind(k) for k in digits ]\n",
    "        min_val = min(ind) \n",
    "        min_arg = np.argmin(ind)\n",
    "        max_val = max(indr)\n",
    "        max_arg = np.argmax(indr)\n",
    "        max_len = len(keys[max_arg])\n",
    "        line2 = line\n",
    "        line3 = line\n",
    "        for k in digits:\n",
    "            line3 = line3.replace(k,k+digits[k]+k)\n",
    "        if min(ind)<999:\n",
    "                line2 = line2[:min_val] + digits[keys[min_arg]] + line2[min_val + 1:]\n",
    "                line2 = line2[:max_val + max_len - 1] + digits[keys[max_arg]] + line2[max_val+max_len:]\n",
    "        for j,c1 in enumerate(line2):\n",
    "            if c1.isdigit():\n",
    "                break\n",
    "        for k,c2 in enumerate(reversed(line2)):\n",
    "            if c2.isdigit():\n",
    "                calibration_value = int(c1+c2)\n",
    "                sum_cal_value = sum_cal_value + calibration_value\n",
    "                break\n",
    "        for j,c1n in enumerate(line3):\n",
    "            if c1n.isdigit():\n",
    "                break\n",
    "        for k,c2n in enumerate(reversed(line3)):\n",
    "            if c2n.isdigit():\n",
    "                calibration_value2 = int(c1n+c2n)\n",
    "                if calibration_value!= calibration_value2:\n",
    "                    print(line, calibration_value,line2,calibration_value2, line3)\n",
    "                break\n",
    "    return sum_cal_value"
   ]
  },
  {
   "cell_type": "code",
   "execution_count": 434,
   "id": "4085a215-b8b5-4c10-8cf3-90a469250d01",
   "metadata": {},
   "outputs": [
    {
     "data": {
      "text/plain": [
       "54980"
      ]
     },
     "execution_count": 434,
     "metadata": {},
     "output_type": "execute_result"
    }
   ],
   "source": [
    "replace_digits_v2()"
   ]
  },
  {
   "cell_type": "markdown",
   "id": "50c2c73c-07bd-47da-81b8-4d93f8de547a",
   "metadata": {},
   "source": [
    "## Check the performance"
   ]
  },
  {
   "cell_type": "code",
   "execution_count": 424,
   "id": "bae8a6e8-01a6-42eb-af09-b6dafa6804d7",
   "metadata": {},
   "outputs": [
    {
     "name": "stdout",
     "output_type": "stream",
     "text": [
      "6.99 ms ± 186 µs per loop (mean ± std. dev. of 7 runs, 100 loops each)\n"
     ]
    }
   ],
   "source": [
    "%timeit replace_digits()"
   ]
  },
  {
   "cell_type": "code",
   "execution_count": 435,
   "id": "f1ab51c6-3002-4f03-abfd-e9c4f378976c",
   "metadata": {},
   "outputs": [
    {
     "name": "stdout",
     "output_type": "stream",
     "text": [
      "34.9 ms ± 1.42 ms per loop (mean ± std. dev. of 7 runs, 10 loops each)\n"
     ]
    }
   ],
   "source": [
    "%timeit replace_digits_v2()"
   ]
  },
  {
   "cell_type": "code",
   "execution_count": null,
   "id": "6b411a34-3258-4c1c-9837-919096c217d4",
   "metadata": {},
   "outputs": [],
   "source": []
  }
 ],
 "metadata": {
  "kernelspec": {
   "display_name": "Python 3",
   "language": "python",
   "name": "python3"
  },
  "language_info": {
   "codemirror_mode": {
    "name": "ipython",
    "version": 3
   },
   "file_extension": ".py",
   "mimetype": "text/x-python",
   "name": "python",
   "nbconvert_exporter": "python",
   "pygments_lexer": "ipython3",
   "version": "3.8.8"
  }
 },
 "nbformat": 4,
 "nbformat_minor": 5
}
